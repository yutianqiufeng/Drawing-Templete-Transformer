{
 "cells": [
  {
   "cell_type": "code",
   "execution_count": 3,
   "id": "3b45e898",
   "metadata": {},
   "outputs": [
    {
     "ename": "TypeError",
     "evalue": "__init__() got an unexpected keyword argument 'decoder_channels'",
     "output_type": "error",
     "traceback": [
      "\u001b[1;31m---------------------------------------------------------------------------\u001b[0m",
      "\u001b[1;31mTypeError\u001b[0m                                 Traceback (most recent call last)",
      "Cell \u001b[1;32mIn[3], line 24\u001b[0m\n\u001b[0;32m     12\u001b[0m efficientnet_b7\u001b[38;5;241m=\u001b[39m{\n\u001b[0;32m     13\u001b[0m \n\u001b[0;32m     14\u001b[0m     \u001b[38;5;124m\"\u001b[39m\u001b[38;5;124mparams\u001b[39m\u001b[38;5;124m\"\u001b[39m: {\n\u001b[1;32m   (...)\u001b[0m\n\u001b[0;32m     20\u001b[0m     },\n\u001b[0;32m     21\u001b[0m }\n\u001b[0;32m     22\u001b[0m params\u001b[38;5;241m=\u001b[39mefficientnet_b7[\u001b[38;5;124m'\u001b[39m\u001b[38;5;124mparams\u001b[39m\u001b[38;5;124m'\u001b[39m]\n\u001b[1;32m---> 24\u001b[0m model\u001b[38;5;241m=\u001b[39mEfficientNetEncoder(\u001b[38;5;241m*\u001b[39m\u001b[38;5;241m*\u001b[39mparams)\n\u001b[0;32m     25\u001b[0m encoder\u001b[38;5;241m=\u001b[39mtorch\u001b[38;5;241m.\u001b[39mload(\u001b[38;5;124m\"\u001b[39m\u001b[38;5;124m../../app3/model_para/encoder.bin\u001b[39m\u001b[38;5;124m\"\u001b[39m)\n\u001b[0;32m     26\u001b[0m model\u001b[38;5;241m.\u001b[39mload_state_dict(encoder)\n",
      "\u001b[1;31mTypeError\u001b[0m: __init__() got an unexpected keyword argument 'decoder_channels'"
     ]
    }
   ],
   "source": [
    "from eff_encoder import EfficientNetEncoder\n",
    "import torch\n",
    "efficientnet_b4={\n",
    "    \"params\": {\n",
    "        \"out_channels\": (3, 48, 32, 56, 160, 448),\n",
    "        \"stage_idxs\": (6, 10, 22, 32),\n",
    "        \"model_name\": \"efficientnet-b4\",\n",
    "        'depth':5,\n",
    "        'in_channels':3\n",
    "    },\n",
    "}\n",
    "efficientnet_b7={\n",
    "\n",
    "    \"params\": {\n",
    "        \"decoder_channels\": (3, 64, 48, 80, 224, 640),\n",
    "        \"stage_idxs\": (11, 18, 38, 55),\n",
    "        \"encoder_name\": \"efficientnet-b7\",\n",
    "        'depth':5,\n",
    "        'in_channels':3\n",
    "    },\n",
    "}\n",
    "params=efficientnet_b7['params']\n",
    "\n",
    "model=EfficientNetEncoder(**params)\n",
    "encoder=torch.load(\"../../app3/model_para/encoder.bin\")\n",
    "model.load_state_dict(encoder)\n",
    "# inputs = torch.rand(1, 3, 224, 224)\n",
    "\n",
    "# for f in model.extract_skippoints(inputs).values():\n",
    "#     print(f.size())"
   ]
  },
  {
   "cell_type": "code",
   "execution_count": 5,
   "id": "81c51c22",
   "metadata": {
    "scrolled": true
   },
   "outputs": [],
   "source": [
    "from unet import unet\n",
    "import torch\n",
    "inputs = torch.rand(1,1, 512, 512)\n",
    "model=unet(encoder_name= \"efficientnet-b7\")"
   ]
  },
  {
   "cell_type": "code",
   "execution_count": 6,
   "id": "7da9a132",
   "metadata": {},
   "outputs": [
    {
     "data": {
      "text/plain": [
       "<All keys matched successfully>"
      ]
     },
     "execution_count": 6,
     "metadata": {},
     "output_type": "execute_result"
    }
   ],
   "source": [
    "checkpoint=torch.load(\"../../app3/model_para/encoder.bin\")\n",
    "decoder=torch.load(\"../../app3/model_para/heat.bin\")\n",
    "checkpoint.update(decoder)\n",
    "model.load_state_dict(checkpoint)"
   ]
  },
  {
   "cell_type": "code",
   "execution_count": 8,
   "id": "0822aa21",
   "metadata": {
    "scrolled": true
   },
   "outputs": [],
   "source": [
    "features= model.encoder(inputs)\n",
    "y=model.forward(features.copy(),extract_features=True)"
   ]
  },
  {
   "cell_type": "code",
   "execution_count": null,
   "id": "2eafb84c",
   "metadata": {},
   "outputs": [],
   "source": []
  }
 ],
 "metadata": {
  "kernelspec": {
   "display_name": "Python 3 (ipykernel)",
   "language": "python",
   "name": "python3"
  },
  "language_info": {
   "codemirror_mode": {
    "name": "ipython",
    "version": 3
   },
   "file_extension": ".py",
   "mimetype": "text/x-python",
   "name": "python",
   "nbconvert_exporter": "python",
   "pygments_lexer": "ipython3",
   "version": "3.9.17"
  }
 },
 "nbformat": 4,
 "nbformat_minor": 5
}
